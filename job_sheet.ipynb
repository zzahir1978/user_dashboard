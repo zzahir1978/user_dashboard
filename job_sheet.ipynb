{
 "cells": [
  {
   "cell_type": "code",
   "execution_count": 1,
   "id": "48886112",
   "metadata": {},
   "outputs": [],
   "source": [
    "from deta import Deta"
   ]
  },
  {
   "cell_type": "markdown",
   "id": "d56b0877",
   "metadata": {},
   "source": [
    "#Key name: 5m7w1s, \n",
    "#Key Description: Project Key: 5m7w1s, \n",
    "#Project key: c0jo61nr_19VVPZAnQBZPws1WGgaU2HDCW1kyth28"
   ]
  },
  {
   "cell_type": "code",
   "execution_count": 2,
   "id": "29a002f0",
   "metadata": {},
   "outputs": [],
   "source": [
    "DETA_KEY = 'c0jo61nr_19VVPZAnQBZPws1WGgaU2HDCW1kyth28'          \n",
    "deta = Deta(DETA_KEY)\n",
    "db = deta.Base('job_sheet')\n",
    "books = deta.Base('books')"
   ]
  },
  {
   "cell_type": "code",
   "execution_count": 6,
   "id": "16eaff84",
   "metadata": {},
   "outputs": [],
   "source": [
    "def insert_date(date, client, address, category, description, payment):\n",
    "    \"\"\"Returns the user on a successful user creation, otherwise raises and error\"\"\"\n",
    "    return db.put({'client': client, 'date': date, 'address': address, 'category': category, \n",
    "                   'description': description,'payment': payment})\n",
    "\n",
    "def fetch_all_dates():\n",
    "    \"\"\"Returns a dict of all date\"\"\"\n",
    "    res = db.fetch()\n",
    "    return res.items"
   ]
  },
  {
   "cell_type": "code",
   "execution_count": 7,
   "id": "02ee4c05",
   "metadata": {},
   "outputs": [],
   "source": [
    "date = ['15/07/2022']\n",
    "client = ['Verify Cargo Inspection']\n",
    "address = ['Mexico']\n",
    "category = ['Inspection']\n",
    "description = ['Cargo inspection at AOBA, Semenyih, Selangor']\n",
    "payment = [250]"
   ]
  },
  {
   "cell_type": "code",
   "execution_count": 8,
   "id": "0ff871b9",
   "metadata": {},
   "outputs": [
    {
     "data": {
      "text/plain": [
       "{'address': ['Mexico'],\n",
       " 'category': ['Inspection'],\n",
       " 'client': ['Verify Cargo Inspection'],\n",
       " 'date': ['15/07/2022'],\n",
       " 'description': ['Cargo inspection at AOBA, Semenyih, Selangor'],\n",
       " 'key': 'jv2xawkkeoso',\n",
       " 'payment': [250]}"
      ]
     },
     "execution_count": 8,
     "metadata": {},
     "output_type": "execute_result"
    }
   ],
   "source": [
    "insert_date(date, client, address, category, description, payment)"
   ]
  },
  {
   "cell_type": "code",
   "execution_count": null,
   "id": "15ddf3e1",
   "metadata": {},
   "outputs": [],
   "source": [
    "fetch_all_dates()"
   ]
  },
  {
   "cell_type": "code",
   "execution_count": null,
   "id": "7ecdc804",
   "metadata": {},
   "outputs": [],
   "source": []
  }
 ],
 "metadata": {
  "kernelspec": {
   "display_name": "Python 3 (ipykernel)",
   "language": "python",
   "name": "python3"
  },
  "language_info": {
   "codemirror_mode": {
    "name": "ipython",
    "version": 3
   },
   "file_extension": ".py",
   "mimetype": "text/x-python",
   "name": "python",
   "nbconvert_exporter": "python",
   "pygments_lexer": "ipython3",
   "version": "3.9.7"
  }
 },
 "nbformat": 4,
 "nbformat_minor": 5
}
